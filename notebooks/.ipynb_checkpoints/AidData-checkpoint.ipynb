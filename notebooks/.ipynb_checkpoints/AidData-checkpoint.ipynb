{
 "cells": [
  {
   "cell_type": "markdown",
   "id": "be6777ab-0623-4657-9c19-cdde1f061a74",
   "metadata": {},
   "source": [
    "# AidData\n",
    "\n",
    "Global China Data [AidData's Global Chinese Development Finance Dataset, Version 3.0](https://www.aiddata.org/data/aiddatas-global-chinese-development-finance-dataset-version-3-0)"
   ]
  },
  {
   "cell_type": "code",
   "execution_count": null,
   "id": "f7977ab9-9b77-4547-89c0-93ef6743be05",
   "metadata": {},
   "outputs": [],
   "source": [
    "import pandas as pd"
   ]
  },
  {
   "cell_type": "code",
   "execution_count": null,
   "id": "b7b28a2b-d2c6-4d62-bac7-fdc78dd633bc",
   "metadata": {},
   "outputs": [],
   "source": []
  }
 ],
 "metadata": {
  "kernelspec": {
   "display_name": "Python 3 (ipykernel)",
   "language": "python",
   "name": "python3"
  },
  "language_info": {
   "codemirror_mode": {
    "name": "ipython",
    "version": 3
   },
   "file_extension": ".py",
   "mimetype": "text/x-python",
   "name": "python",
   "nbconvert_exporter": "python",
   "pygments_lexer": "ipython3",
   "version": "3.9.21"
  }
 },
 "nbformat": 4,
 "nbformat_minor": 5
}
